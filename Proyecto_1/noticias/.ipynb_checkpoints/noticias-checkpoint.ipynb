{
 "cells": [
  {
   "cell_type": "code",
   "execution_count": 1,
   "id": "58f15d49-50c7-4c38-896e-d4ee26399dfd",
   "metadata": {},
   "outputs": [
    {
     "name": "stdout",
     "output_type": "stream",
     "text": [
      "hola\n"
     ]
    }
   ],
   "source": [
    "print(\"hola\")"
   ]
  },
  {
   "cell_type": "code",
   "execution_count": 2,
   "id": "de3e0a91-bc9a-4c8f-b664-8b89e19c76d2",
   "metadata": {},
   "outputs": [],
   "source": [
    "import numpy as np\n",
    "import pandas as pd"
   ]
  },
  {
   "cell_type": "code",
   "execution_count": 3,
   "id": "e7e8c540-0a40-45db-9cd8-9010053af1d8",
   "metadata": {},
   "outputs": [
    {
     "data": {
      "text/html": [
       "<div>\n",
       "<style scoped>\n",
       "    .dataframe tbody tr th:only-of-type {\n",
       "        vertical-align: middle;\n",
       "    }\n",
       "\n",
       "    .dataframe tbody tr th {\n",
       "        vertical-align: top;\n",
       "    }\n",
       "\n",
       "    .dataframe thead th {\n",
       "        text-align: right;\n",
       "    }\n",
       "</style>\n",
       "<table border=\"1\" class=\"dataframe\">\n",
       "  <thead>\n",
       "    <tr style=\"text-align: right;\">\n",
       "      <th></th>\n",
       "      <th>pubDate</th>\n",
       "      <th>guid</th>\n",
       "      <th>link</th>\n",
       "      <th>description</th>\n",
       "    </tr>\n",
       "    <tr>\n",
       "      <th>title</th>\n",
       "      <th></th>\n",
       "      <th></th>\n",
       "      <th></th>\n",
       "      <th></th>\n",
       "    </tr>\n",
       "  </thead>\n",
       "  <tbody>\n",
       "    <tr>\n",
       "      <th>Ukraine: Angry Zelensky vows to punish Russian atrocities</th>\n",
       "      <td>Mon, 07 Mar 2022 08:01:56 GMT</td>\n",
       "      <td>https://www.bbc.co.uk/news/world-europe-60638042</td>\n",
       "      <td>https://www.bbc.co.uk/news/world-europe-606380...</td>\n",
       "      <td>The Ukrainian president says the country will ...</td>\n",
       "    </tr>\n",
       "    <tr>\n",
       "      <th>War in Ukraine: Taking cover in a town under attack</th>\n",
       "      <td>Sun, 06 Mar 2022 22:49:58 GMT</td>\n",
       "      <td>https://www.bbc.co.uk/news/world-europe-60641873</td>\n",
       "      <td>https://www.bbc.co.uk/news/world-europe-606418...</td>\n",
       "      <td>Jeremy Bowen was on the frontline in Irpin, as...</td>\n",
       "    </tr>\n",
       "    <tr>\n",
       "      <th>Ukraine war 'catastrophic for global food'</th>\n",
       "      <td>Mon, 07 Mar 2022 00:14:42 GMT</td>\n",
       "      <td>https://www.bbc.co.uk/news/business-60623941</td>\n",
       "      <td>https://www.bbc.co.uk/news/business-60623941?a...</td>\n",
       "      <td>One of the world's biggest fertiliser firms sa...</td>\n",
       "    </tr>\n",
       "    <tr>\n",
       "      <th>Manchester Arena bombing: Saffie Roussos's parents on hearing the truth</th>\n",
       "      <td>Mon, 07 Mar 2022 00:05:40 GMT</td>\n",
       "      <td>https://www.bbc.co.uk/news/uk-60579079</td>\n",
       "      <td>https://www.bbc.co.uk/news/uk-60579079?at_medi...</td>\n",
       "      <td>The parents of the Manchester Arena bombing's ...</td>\n",
       "    </tr>\n",
       "    <tr>\n",
       "      <th>Ukraine conflict: Oil price soars to highest level since 2008</th>\n",
       "      <td>Mon, 07 Mar 2022 08:15:53 GMT</td>\n",
       "      <td>https://www.bbc.co.uk/news/business-60642786</td>\n",
       "      <td>https://www.bbc.co.uk/news/business-60642786?a...</td>\n",
       "      <td>Consumers are feeling the impact of higher ene...</td>\n",
       "    </tr>\n",
       "    <tr>\n",
       "      <th>...</th>\n",
       "      <td>...</td>\n",
       "      <td>...</td>\n",
       "      <td>...</td>\n",
       "      <td>...</td>\n",
       "    </tr>\n",
       "    <tr>\n",
       "      <th>Rangers claim 'massive three points' at Kilmarnock</th>\n",
       "      <td>Wed, 28 Feb 2024 22:46:45 GMT</td>\n",
       "      <td>https://www.bbc.co.uk/sport/football/68355883</td>\n",
       "      <td>https://www.bbc.co.uk/sport/football/68355883</td>\n",
       "      <td>Rangers manager Philippe Clement welcomes a \"m...</td>\n",
       "    </tr>\n",
       "    <tr>\n",
       "      <th>Chelsea snatch dramatic win over Leeds in FA Cup</th>\n",
       "      <td>Wed, 28 Feb 2024 22:53:53 GMT</td>\n",
       "      <td>https://www.bbc.co.uk/sport/football/68428918</td>\n",
       "      <td>https://www.bbc.co.uk/sport/football/68428918</td>\n",
       "      <td>Conor Gallagher scores a last-minute winner as...</td>\n",
       "    </tr>\n",
       "    <tr>\n",
       "      <th>Red Bull's Horner cleared of inappropriate behaviour</th>\n",
       "      <td>Wed, 28 Feb 2024 16:34:08 GMT</td>\n",
       "      <td>https://www.bbc.co.uk/sport/formula1/68411597</td>\n",
       "      <td>https://www.bbc.co.uk/sport/formula1/68411597</td>\n",
       "      <td>Red Bull's team principal Christian Horner is ...</td>\n",
       "    </tr>\n",
       "    <tr>\n",
       "      <th>Teenager Danns scores twice as Liverpool beat Southampton</th>\n",
       "      <td>Wed, 28 Feb 2024 22:32:41 GMT</td>\n",
       "      <td>https://www.bbc.co.uk/sport/av/football/68419797</td>\n",
       "      <td>https://www.bbc.co.uk/sport/av/football/68419797</td>\n",
       "      <td>Watch teenagers Lewis Koumas and Jayden Danns ...</td>\n",
       "    </tr>\n",
       "    <tr>\n",
       "      <th>Casemiro winner helps Man Utd see off Forest</th>\n",
       "      <td>Wed, 28 Feb 2024 22:12:39 GMT</td>\n",
       "      <td>https://www.bbc.co.uk/sport/av/football/68418576</td>\n",
       "      <td>https://www.bbc.co.uk/sport/av/football/68418576</td>\n",
       "      <td>Watch highlights as Casemiro scores an 89th-mi...</td>\n",
       "    </tr>\n",
       "  </tbody>\n",
       "</table>\n",
       "<p>30037 rows × 4 columns</p>\n",
       "</div>"
      ],
      "text/plain": [
       "                                                                          pubDate  \\\n",
       "title                                                                               \n",
       "Ukraine: Angry Zelensky vows to punish Russian ...  Mon, 07 Mar 2022 08:01:56 GMT   \n",
       "War in Ukraine: Taking cover in a town under at...  Sun, 06 Mar 2022 22:49:58 GMT   \n",
       "Ukraine war 'catastrophic for global food'          Mon, 07 Mar 2022 00:14:42 GMT   \n",
       "Manchester Arena bombing: Saffie Roussos's pare...  Mon, 07 Mar 2022 00:05:40 GMT   \n",
       "Ukraine conflict: Oil price soars to highest le...  Mon, 07 Mar 2022 08:15:53 GMT   \n",
       "...                                                                           ...   \n",
       "Rangers claim 'massive three points' at Kilmarnock  Wed, 28 Feb 2024 22:46:45 GMT   \n",
       "Chelsea snatch dramatic win over Leeds in FA Cup    Wed, 28 Feb 2024 22:53:53 GMT   \n",
       "Red Bull's Horner cleared of inappropriate beha...  Wed, 28 Feb 2024 16:34:08 GMT   \n",
       "Teenager Danns scores twice as Liverpool beat S...  Wed, 28 Feb 2024 22:32:41 GMT   \n",
       "Casemiro winner helps Man Utd see off Forest        Wed, 28 Feb 2024 22:12:39 GMT   \n",
       "\n",
       "                                                                                                guid  \\\n",
       "title                                                                                                  \n",
       "Ukraine: Angry Zelensky vows to punish Russian ...  https://www.bbc.co.uk/news/world-europe-60638042   \n",
       "War in Ukraine: Taking cover in a town under at...  https://www.bbc.co.uk/news/world-europe-60641873   \n",
       "Ukraine war 'catastrophic for global food'              https://www.bbc.co.uk/news/business-60623941   \n",
       "Manchester Arena bombing: Saffie Roussos's pare...            https://www.bbc.co.uk/news/uk-60579079   \n",
       "Ukraine conflict: Oil price soars to highest le...      https://www.bbc.co.uk/news/business-60642786   \n",
       "...                                                                                              ...   \n",
       "Rangers claim 'massive three points' at Kilmarnock     https://www.bbc.co.uk/sport/football/68355883   \n",
       "Chelsea snatch dramatic win over Leeds in FA Cup       https://www.bbc.co.uk/sport/football/68428918   \n",
       "Red Bull's Horner cleared of inappropriate beha...     https://www.bbc.co.uk/sport/formula1/68411597   \n",
       "Teenager Danns scores twice as Liverpool beat S...  https://www.bbc.co.uk/sport/av/football/68419797   \n",
       "Casemiro winner helps Man Utd see off Forest        https://www.bbc.co.uk/sport/av/football/68418576   \n",
       "\n",
       "                                                                                                 link  \\\n",
       "title                                                                                                   \n",
       "Ukraine: Angry Zelensky vows to punish Russian ...  https://www.bbc.co.uk/news/world-europe-606380...   \n",
       "War in Ukraine: Taking cover in a town under at...  https://www.bbc.co.uk/news/world-europe-606418...   \n",
       "Ukraine war 'catastrophic for global food'          https://www.bbc.co.uk/news/business-60623941?a...   \n",
       "Manchester Arena bombing: Saffie Roussos's pare...  https://www.bbc.co.uk/news/uk-60579079?at_medi...   \n",
       "Ukraine conflict: Oil price soars to highest le...  https://www.bbc.co.uk/news/business-60642786?a...   \n",
       "...                                                                                               ...   \n",
       "Rangers claim 'massive three points' at Kilmarnock      https://www.bbc.co.uk/sport/football/68355883   \n",
       "Chelsea snatch dramatic win over Leeds in FA Cup        https://www.bbc.co.uk/sport/football/68428918   \n",
       "Red Bull's Horner cleared of inappropriate beha...      https://www.bbc.co.uk/sport/formula1/68411597   \n",
       "Teenager Danns scores twice as Liverpool beat S...   https://www.bbc.co.uk/sport/av/football/68419797   \n",
       "Casemiro winner helps Man Utd see off Forest         https://www.bbc.co.uk/sport/av/football/68418576   \n",
       "\n",
       "                                                                                          description  \n",
       "title                                                                                                  \n",
       "Ukraine: Angry Zelensky vows to punish Russian ...  The Ukrainian president says the country will ...  \n",
       "War in Ukraine: Taking cover in a town under at...  Jeremy Bowen was on the frontline in Irpin, as...  \n",
       "Ukraine war 'catastrophic for global food'          One of the world's biggest fertiliser firms sa...  \n",
       "Manchester Arena bombing: Saffie Roussos's pare...  The parents of the Manchester Arena bombing's ...  \n",
       "Ukraine conflict: Oil price soars to highest le...  Consumers are feeling the impact of higher ene...  \n",
       "...                                                                                               ...  \n",
       "Rangers claim 'massive three points' at Kilmarnock  Rangers manager Philippe Clement welcomes a \"m...  \n",
       "Chelsea snatch dramatic win over Leeds in FA Cup    Conor Gallagher scores a last-minute winner as...  \n",
       "Red Bull's Horner cleared of inappropriate beha...  Red Bull's team principal Christian Horner is ...  \n",
       "Teenager Danns scores twice as Liverpool beat S...  Watch teenagers Lewis Koumas and Jayden Danns ...  \n",
       "Casemiro winner helps Man Utd see off Forest        Watch highlights as Casemiro scores an 89th-mi...  \n",
       "\n",
       "[30037 rows x 4 columns]"
      ]
     },
     "execution_count": 3,
     "metadata": {},
     "output_type": "execute_result"
    }
   ],
   "source": [
    "df = pd.read_csv('noticias.csv', index_col=0)\n",
    "df"
   ]
  },
  {
   "cell_type": "code",
   "execution_count": 4,
   "id": "aa44707d-7730-4604-992a-894eb61ca72c",
   "metadata": {},
   "outputs": [
    {
     "data": {
      "text/html": [
       "<div>\n",
       "<style scoped>\n",
       "    .dataframe tbody tr th:only-of-type {\n",
       "        vertical-align: middle;\n",
       "    }\n",
       "\n",
       "    .dataframe tbody tr th {\n",
       "        vertical-align: top;\n",
       "    }\n",
       "\n",
       "    .dataframe thead th {\n",
       "        text-align: right;\n",
       "    }\n",
       "</style>\n",
       "<table border=\"1\" class=\"dataframe\">\n",
       "  <thead>\n",
       "    <tr style=\"text-align: right;\">\n",
       "      <th></th>\n",
       "      <th>pubDate</th>\n",
       "      <th>guid</th>\n",
       "      <th>link</th>\n",
       "      <th>description</th>\n",
       "    </tr>\n",
       "    <tr>\n",
       "      <th>title</th>\n",
       "      <th></th>\n",
       "      <th></th>\n",
       "      <th></th>\n",
       "      <th></th>\n",
       "    </tr>\n",
       "  </thead>\n",
       "  <tbody>\n",
       "    <tr>\n",
       "      <th>Ukraine: Angry Zelensky vows to punish Russian atrocities</th>\n",
       "      <td>Mon, 07 Mar 2022 08:01:56 GMT</td>\n",
       "      <td>https://www.bbc.co.uk/news/world-europe-60638042</td>\n",
       "      <td>https://www.bbc.co.uk/news/world-europe-606380...</td>\n",
       "      <td>The Ukrainian president says the country will ...</td>\n",
       "    </tr>\n",
       "    <tr>\n",
       "      <th>War in Ukraine: Taking cover in a town under attack</th>\n",
       "      <td>Sun, 06 Mar 2022 22:49:58 GMT</td>\n",
       "      <td>https://www.bbc.co.uk/news/world-europe-60641873</td>\n",
       "      <td>https://www.bbc.co.uk/news/world-europe-606418...</td>\n",
       "      <td>Jeremy Bowen was on the frontline in Irpin, as...</td>\n",
       "    </tr>\n",
       "    <tr>\n",
       "      <th>Ukraine war 'catastrophic for global food'</th>\n",
       "      <td>Mon, 07 Mar 2022 00:14:42 GMT</td>\n",
       "      <td>https://www.bbc.co.uk/news/business-60623941</td>\n",
       "      <td>https://www.bbc.co.uk/news/business-60623941?a...</td>\n",
       "      <td>One of the world's biggest fertiliser firms sa...</td>\n",
       "    </tr>\n",
       "    <tr>\n",
       "      <th>Manchester Arena bombing: Saffie Roussos's parents on hearing the truth</th>\n",
       "      <td>Mon, 07 Mar 2022 00:05:40 GMT</td>\n",
       "      <td>https://www.bbc.co.uk/news/uk-60579079</td>\n",
       "      <td>https://www.bbc.co.uk/news/uk-60579079?at_medi...</td>\n",
       "      <td>The parents of the Manchester Arena bombing's ...</td>\n",
       "    </tr>\n",
       "    <tr>\n",
       "      <th>Ukraine conflict: Oil price soars to highest level since 2008</th>\n",
       "      <td>Mon, 07 Mar 2022 08:15:53 GMT</td>\n",
       "      <td>https://www.bbc.co.uk/news/business-60642786</td>\n",
       "      <td>https://www.bbc.co.uk/news/business-60642786?a...</td>\n",
       "      <td>Consumers are feeling the impact of higher ene...</td>\n",
       "    </tr>\n",
       "  </tbody>\n",
       "</table>\n",
       "</div>"
      ],
      "text/plain": [
       "                                                                          pubDate  \\\n",
       "title                                                                               \n",
       "Ukraine: Angry Zelensky vows to punish Russian ...  Mon, 07 Mar 2022 08:01:56 GMT   \n",
       "War in Ukraine: Taking cover in a town under at...  Sun, 06 Mar 2022 22:49:58 GMT   \n",
       "Ukraine war 'catastrophic for global food'          Mon, 07 Mar 2022 00:14:42 GMT   \n",
       "Manchester Arena bombing: Saffie Roussos's pare...  Mon, 07 Mar 2022 00:05:40 GMT   \n",
       "Ukraine conflict: Oil price soars to highest le...  Mon, 07 Mar 2022 08:15:53 GMT   \n",
       "\n",
       "                                                                                                guid  \\\n",
       "title                                                                                                  \n",
       "Ukraine: Angry Zelensky vows to punish Russian ...  https://www.bbc.co.uk/news/world-europe-60638042   \n",
       "War in Ukraine: Taking cover in a town under at...  https://www.bbc.co.uk/news/world-europe-60641873   \n",
       "Ukraine war 'catastrophic for global food'              https://www.bbc.co.uk/news/business-60623941   \n",
       "Manchester Arena bombing: Saffie Roussos's pare...            https://www.bbc.co.uk/news/uk-60579079   \n",
       "Ukraine conflict: Oil price soars to highest le...      https://www.bbc.co.uk/news/business-60642786   \n",
       "\n",
       "                                                                                                 link  \\\n",
       "title                                                                                                   \n",
       "Ukraine: Angry Zelensky vows to punish Russian ...  https://www.bbc.co.uk/news/world-europe-606380...   \n",
       "War in Ukraine: Taking cover in a town under at...  https://www.bbc.co.uk/news/world-europe-606418...   \n",
       "Ukraine war 'catastrophic for global food'          https://www.bbc.co.uk/news/business-60623941?a...   \n",
       "Manchester Arena bombing: Saffie Roussos's pare...  https://www.bbc.co.uk/news/uk-60579079?at_medi...   \n",
       "Ukraine conflict: Oil price soars to highest le...  https://www.bbc.co.uk/news/business-60642786?a...   \n",
       "\n",
       "                                                                                          description  \n",
       "title                                                                                                  \n",
       "Ukraine: Angry Zelensky vows to punish Russian ...  The Ukrainian president says the country will ...  \n",
       "War in Ukraine: Taking cover in a town under at...  Jeremy Bowen was on the frontline in Irpin, as...  \n",
       "Ukraine war 'catastrophic for global food'          One of the world's biggest fertiliser firms sa...  \n",
       "Manchester Arena bombing: Saffie Roussos's pare...  The parents of the Manchester Arena bombing's ...  \n",
       "Ukraine conflict: Oil price soars to highest le...  Consumers are feeling the impact of higher ene...  "
      ]
     },
     "execution_count": 4,
     "metadata": {},
     "output_type": "execute_result"
    }
   ],
   "source": [
    "df.head()"
   ]
  },
  {
   "cell_type": "code",
   "execution_count": 5,
   "id": "d4062116-e55a-495a-b4b4-0698462ae82d",
   "metadata": {},
   "outputs": [
    {
     "data": {
      "text/html": [
       "<div>\n",
       "<style scoped>\n",
       "    .dataframe tbody tr th:only-of-type {\n",
       "        vertical-align: middle;\n",
       "    }\n",
       "\n",
       "    .dataframe tbody tr th {\n",
       "        vertical-align: top;\n",
       "    }\n",
       "\n",
       "    .dataframe thead th {\n",
       "        text-align: right;\n",
       "    }\n",
       "</style>\n",
       "<table border=\"1\" class=\"dataframe\">\n",
       "  <thead>\n",
       "    <tr style=\"text-align: right;\">\n",
       "      <th></th>\n",
       "      <th>pubDate</th>\n",
       "      <th>guid</th>\n",
       "      <th>link</th>\n",
       "      <th>description</th>\n",
       "    </tr>\n",
       "    <tr>\n",
       "      <th>title</th>\n",
       "      <th></th>\n",
       "      <th></th>\n",
       "      <th></th>\n",
       "      <th></th>\n",
       "    </tr>\n",
       "  </thead>\n",
       "  <tbody>\n",
       "    <tr>\n",
       "      <th>Teenager Danns scores twice as Liverpool beat Southampton</th>\n",
       "      <td>Wed, 28 Feb 2024 22:32:41 GMT</td>\n",
       "      <td>https://www.bbc.co.uk/sport/av/football/68419797</td>\n",
       "      <td>https://www.bbc.co.uk/sport/av/football/68419797</td>\n",
       "      <td>Watch teenagers Lewis Koumas and Jayden Danns ...</td>\n",
       "    </tr>\n",
       "    <tr>\n",
       "      <th>Casemiro winner helps Man Utd see off Forest</th>\n",
       "      <td>Wed, 28 Feb 2024 22:12:39 GMT</td>\n",
       "      <td>https://www.bbc.co.uk/sport/av/football/68418576</td>\n",
       "      <td>https://www.bbc.co.uk/sport/av/football/68418576</td>\n",
       "      <td>Watch highlights as Casemiro scores an 89th-mi...</td>\n",
       "    </tr>\n",
       "  </tbody>\n",
       "</table>\n",
       "</div>"
      ],
      "text/plain": [
       "                                                                          pubDate  \\\n",
       "title                                                                               \n",
       "Teenager Danns scores twice as Liverpool beat S...  Wed, 28 Feb 2024 22:32:41 GMT   \n",
       "Casemiro winner helps Man Utd see off Forest        Wed, 28 Feb 2024 22:12:39 GMT   \n",
       "\n",
       "                                                                                                guid  \\\n",
       "title                                                                                                  \n",
       "Teenager Danns scores twice as Liverpool beat S...  https://www.bbc.co.uk/sport/av/football/68419797   \n",
       "Casemiro winner helps Man Utd see off Forest        https://www.bbc.co.uk/sport/av/football/68418576   \n",
       "\n",
       "                                                                                                link  \\\n",
       "title                                                                                                  \n",
       "Teenager Danns scores twice as Liverpool beat S...  https://www.bbc.co.uk/sport/av/football/68419797   \n",
       "Casemiro winner helps Man Utd see off Forest        https://www.bbc.co.uk/sport/av/football/68418576   \n",
       "\n",
       "                                                                                          description  \n",
       "title                                                                                                  \n",
       "Teenager Danns scores twice as Liverpool beat S...  Watch teenagers Lewis Koumas and Jayden Danns ...  \n",
       "Casemiro winner helps Man Utd see off Forest        Watch highlights as Casemiro scores an 89th-mi...  "
      ]
     },
     "execution_count": 5,
     "metadata": {},
     "output_type": "execute_result"
    }
   ],
   "source": [
    "df.tail(2)"
   ]
  },
  {
   "cell_type": "code",
   "execution_count": 6,
   "id": "adbff86c-b6fc-4ef5-a2ae-bbeeac5f72bf",
   "metadata": {},
   "outputs": [
    {
     "name": "stdout",
     "output_type": "stream",
     "text": [
      "<class 'pandas.core.frame.DataFrame'>\n",
      "Index: 30037 entries, Ukraine: Angry Zelensky vows to punish Russian atrocities to Casemiro winner helps Man Utd see off Forest\n",
      "Data columns (total 4 columns):\n",
      " #   Column       Non-Null Count  Dtype \n",
      "---  ------       --------------  ----- \n",
      " 0   pubDate      30037 non-null  object\n",
      " 1   guid         30037 non-null  object\n",
      " 2   link         30037 non-null  object\n",
      " 3   description  30037 non-null  object\n",
      "dtypes: object(4)\n",
      "memory usage: 1.1+ MB\n"
     ]
    }
   ],
   "source": [
    "df.info()"
   ]
  },
  {
   "cell_type": "code",
   "execution_count": 7,
   "id": "5584084d-d677-4534-993d-1ef899d10773",
   "metadata": {},
   "outputs": [
    {
     "data": {
      "text/plain": [
       "(30037, 4)"
      ]
     },
     "execution_count": 7,
     "metadata": {},
     "output_type": "execute_result"
    }
   ],
   "source": [
    "df.shape"
   ]
  },
  {
   "cell_type": "code",
   "execution_count": 8,
   "id": "fdc8c296-9927-4896-b646-c4c01a29d2a4",
   "metadata": {},
   "outputs": [],
   "source": [
    "#Manejo de duplicados\n",
    "df = df.drop_duplicates()"
   ]
  },
  {
   "cell_type": "code",
   "execution_count": 9,
   "id": "44c39b15-38ee-4282-866d-fc4fa2b9cc75",
   "metadata": {},
   "outputs": [
    {
     "data": {
      "text/plain": [
       "(29556, 4)"
      ]
     },
     "execution_count": 9,
     "metadata": {},
     "output_type": "execute_result"
    }
   ],
   "source": [
    "df.shape"
   ]
  },
  {
   "cell_type": "code",
   "execution_count": 10,
   "id": "e02de89a-e381-49e5-85a9-892cc6a23247",
   "metadata": {},
   "outputs": [
    {
     "data": {
      "text/html": [
       "<div>\n",
       "<style scoped>\n",
       "    .dataframe tbody tr th:only-of-type {\n",
       "        vertical-align: middle;\n",
       "    }\n",
       "\n",
       "    .dataframe tbody tr th {\n",
       "        vertical-align: top;\n",
       "    }\n",
       "\n",
       "    .dataframe thead th {\n",
       "        text-align: right;\n",
       "    }\n",
       "</style>\n",
       "<table border=\"1\" class=\"dataframe\">\n",
       "  <thead>\n",
       "    <tr style=\"text-align: right;\">\n",
       "      <th></th>\n",
       "      <th>pubDate</th>\n",
       "      <th>guid</th>\n",
       "      <th>link</th>\n",
       "      <th>description</th>\n",
       "    </tr>\n",
       "    <tr>\n",
       "      <th>title</th>\n",
       "      <th></th>\n",
       "      <th></th>\n",
       "      <th></th>\n",
       "      <th></th>\n",
       "    </tr>\n",
       "  </thead>\n",
       "  <tbody>\n",
       "    <tr>\n",
       "      <th>Ukraine: Angry Zelensky vows to punish Russian atrocities</th>\n",
       "      <td>False</td>\n",
       "      <td>False</td>\n",
       "      <td>False</td>\n",
       "      <td>False</td>\n",
       "    </tr>\n",
       "    <tr>\n",
       "      <th>War in Ukraine: Taking cover in a town under attack</th>\n",
       "      <td>False</td>\n",
       "      <td>False</td>\n",
       "      <td>False</td>\n",
       "      <td>False</td>\n",
       "    </tr>\n",
       "    <tr>\n",
       "      <th>Ukraine war 'catastrophic for global food'</th>\n",
       "      <td>False</td>\n",
       "      <td>False</td>\n",
       "      <td>False</td>\n",
       "      <td>False</td>\n",
       "    </tr>\n",
       "    <tr>\n",
       "      <th>Manchester Arena bombing: Saffie Roussos's parents on hearing the truth</th>\n",
       "      <td>False</td>\n",
       "      <td>False</td>\n",
       "      <td>False</td>\n",
       "      <td>False</td>\n",
       "    </tr>\n",
       "    <tr>\n",
       "      <th>Ukraine conflict: Oil price soars to highest level since 2008</th>\n",
       "      <td>False</td>\n",
       "      <td>False</td>\n",
       "      <td>False</td>\n",
       "      <td>False</td>\n",
       "    </tr>\n",
       "    <tr>\n",
       "      <th>...</th>\n",
       "      <td>...</td>\n",
       "      <td>...</td>\n",
       "      <td>...</td>\n",
       "      <td>...</td>\n",
       "    </tr>\n",
       "    <tr>\n",
       "      <th>Late Casemiro winner helps Man Utd progress at Forest</th>\n",
       "      <td>False</td>\n",
       "      <td>False</td>\n",
       "      <td>False</td>\n",
       "      <td>False</td>\n",
       "    </tr>\n",
       "    <tr>\n",
       "      <th>Rangers claim 'massive three points' at Kilmarnock</th>\n",
       "      <td>False</td>\n",
       "      <td>False</td>\n",
       "      <td>False</td>\n",
       "      <td>False</td>\n",
       "    </tr>\n",
       "    <tr>\n",
       "      <th>Chelsea snatch dramatic win over Leeds in FA Cup</th>\n",
       "      <td>False</td>\n",
       "      <td>False</td>\n",
       "      <td>False</td>\n",
       "      <td>False</td>\n",
       "    </tr>\n",
       "    <tr>\n",
       "      <th>Teenager Danns scores twice as Liverpool beat Southampton</th>\n",
       "      <td>False</td>\n",
       "      <td>False</td>\n",
       "      <td>False</td>\n",
       "      <td>False</td>\n",
       "    </tr>\n",
       "    <tr>\n",
       "      <th>Casemiro winner helps Man Utd see off Forest</th>\n",
       "      <td>False</td>\n",
       "      <td>False</td>\n",
       "      <td>False</td>\n",
       "      <td>False</td>\n",
       "    </tr>\n",
       "  </tbody>\n",
       "</table>\n",
       "<p>29556 rows × 4 columns</p>\n",
       "</div>"
      ],
      "text/plain": [
       "                                                    pubDate   guid   link  \\\n",
       "title                                                                       \n",
       "Ukraine: Angry Zelensky vows to punish Russian ...    False  False  False   \n",
       "War in Ukraine: Taking cover in a town under at...    False  False  False   \n",
       "Ukraine war 'catastrophic for global food'            False  False  False   \n",
       "Manchester Arena bombing: Saffie Roussos's pare...    False  False  False   \n",
       "Ukraine conflict: Oil price soars to highest le...    False  False  False   \n",
       "...                                                     ...    ...    ...   \n",
       "Late Casemiro winner helps Man Utd progress at ...    False  False  False   \n",
       "Rangers claim 'massive three points' at Kilmarnock    False  False  False   \n",
       "Chelsea snatch dramatic win over Leeds in FA Cup      False  False  False   \n",
       "Teenager Danns scores twice as Liverpool beat S...    False  False  False   \n",
       "Casemiro winner helps Man Utd see off Forest          False  False  False   \n",
       "\n",
       "                                                    description  \n",
       "title                                                            \n",
       "Ukraine: Angry Zelensky vows to punish Russian ...        False  \n",
       "War in Ukraine: Taking cover in a town under at...        False  \n",
       "Ukraine war 'catastrophic for global food'                False  \n",
       "Manchester Arena bombing: Saffie Roussos's pare...        False  \n",
       "Ukraine conflict: Oil price soars to highest le...        False  \n",
       "...                                                         ...  \n",
       "Late Casemiro winner helps Man Utd progress at ...        False  \n",
       "Rangers claim 'massive three points' at Kilmarnock        False  \n",
       "Chelsea snatch dramatic win over Leeds in FA Cup          False  \n",
       "Teenager Danns scores twice as Liverpool beat S...        False  \n",
       "Casemiro winner helps Man Utd see off Forest              False  \n",
       "\n",
       "[29556 rows x 4 columns]"
      ]
     },
     "execution_count": 10,
     "metadata": {},
     "output_type": "execute_result"
    }
   ],
   "source": [
    "#Manejo de valores vacios\n",
    "df.isnull()"
   ]
  },
  {
   "cell_type": "code",
   "execution_count": 11,
   "id": "b48e49e3-e63d-4efb-ac82-cb4fe33ecaee",
   "metadata": {},
   "outputs": [
    {
     "data": {
      "text/plain": [
       "pubDate        0\n",
       "guid           0\n",
       "link           0\n",
       "description    0\n",
       "dtype: int64"
      ]
     },
     "execution_count": 11,
     "metadata": {},
     "output_type": "execute_result"
    }
   ],
   "source": [
    "#Smar los valores vacios en cada registro\n",
    "df.isnull().sum()"
   ]
  },
  {
   "cell_type": "code",
   "execution_count": 12,
   "id": "b8c04464-91a0-4bc4-aef9-e17e7c616b97",
   "metadata": {},
   "outputs": [],
   "source": [
    "df2 = df.dropna()"
   ]
  },
  {
   "cell_type": "code",
   "execution_count": 13,
   "id": "cbeb0887-1aaf-4c1b-be8e-c6db89bee164",
   "metadata": {},
   "outputs": [
    {
     "data": {
      "text/plain": [
       "pubDate        0\n",
       "guid           0\n",
       "link           0\n",
       "description    0\n",
       "dtype: int64"
      ]
     },
     "execution_count": 13,
     "metadata": {},
     "output_type": "execute_result"
    }
   ],
   "source": [
    "df2.isnull().sum()"
   ]
  },
  {
   "cell_type": "code",
   "execution_count": 14,
   "id": "f63dea12-4ace-4576-be74-c59741d58a75",
   "metadata": {},
   "outputs": [
    {
     "data": {
      "text/plain": [
       "(29556, 4)"
      ]
     },
     "execution_count": 14,
     "metadata": {},
     "output_type": "execute_result"
    }
   ],
   "source": [
    "df2.shape"
   ]
  },
  {
   "cell_type": "code",
   "execution_count": 16,
   "id": "2ccafa09-5811-4f66-97a3-559112a4ccff",
   "metadata": {},
   "outputs": [],
   "source": [
    "# Guardar el dataframe depurado\n",
    "df2.to_csv('noticias_clean.csv', index=False)"
   ]
  }
 ],
 "metadata": {
  "kernelspec": {
   "display_name": "Python 3 (ipykernel)",
   "language": "python",
   "name": "python3"
  },
  "language_info": {
   "codemirror_mode": {
    "name": "ipython",
    "version": 3
   },
   "file_extension": ".py",
   "mimetype": "text/x-python",
   "name": "python",
   "nbconvert_exporter": "python",
   "pygments_lexer": "ipython3",
   "version": "3.12.2"
  }
 },
 "nbformat": 4,
 "nbformat_minor": 5
}
