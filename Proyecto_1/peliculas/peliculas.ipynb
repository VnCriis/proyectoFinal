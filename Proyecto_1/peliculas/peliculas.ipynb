{
 "cells": [
  {
   "cell_type": "code",
   "execution_count": 2,
   "id": "58f15d49-50c7-4c38-896e-d4ee26399dfd",
   "metadata": {},
   "outputs": [
    {
     "name": "stdout",
     "output_type": "stream",
     "text": [
      "hola\n"
     ]
    }
   ],
   "source": [
    "print(\"hola\")"
   ]
  },
  {
   "cell_type": "code",
   "execution_count": 3,
   "id": "de3e0a91-bc9a-4c8f-b664-8b89e19c76d2",
   "metadata": {},
   "outputs": [],
   "source": [
    "import numpy as np\n",
    "import pandas as pd"
   ]
  },
  {
   "cell_type": "code",
   "execution_count": 4,
   "id": "e7e8c540-0a40-45db-9cd8-9010053af1d8",
   "metadata": {},
   "outputs": [
    {
     "data": {
      "text/html": [
       "<div>\n",
       "<style scoped>\n",
       "    .dataframe tbody tr th:only-of-type {\n",
       "        vertical-align: middle;\n",
       "    }\n",
       "\n",
       "    .dataframe tbody tr th {\n",
       "        vertical-align: top;\n",
       "    }\n",
       "\n",
       "    .dataframe thead th {\n",
       "        text-align: right;\n",
       "    }\n",
       "</style>\n",
       "<table border=\"1\" class=\"dataframe\">\n",
       "  <thead>\n",
       "    <tr style=\"text-align: right;\">\n",
       "      <th></th>\n",
       "      <th>year_ceremony</th>\n",
       "      <th>ceremony</th>\n",
       "      <th>category</th>\n",
       "      <th>name</th>\n",
       "      <th>film</th>\n",
       "      <th>winner</th>\n",
       "    </tr>\n",
       "    <tr>\n",
       "      <th>year_film</th>\n",
       "      <th></th>\n",
       "      <th></th>\n",
       "      <th></th>\n",
       "      <th></th>\n",
       "      <th></th>\n",
       "      <th></th>\n",
       "    </tr>\n",
       "  </thead>\n",
       "  <tbody>\n",
       "    <tr>\n",
       "      <th>1927</th>\n",
       "      <td>1928</td>\n",
       "      <td>1</td>\n",
       "      <td>ACTOR</td>\n",
       "      <td>Richard Barthelmess</td>\n",
       "      <td>The Noose</td>\n",
       "      <td>False</td>\n",
       "    </tr>\n",
       "    <tr>\n",
       "      <th>1927</th>\n",
       "      <td>1928</td>\n",
       "      <td>1</td>\n",
       "      <td>ACTOR</td>\n",
       "      <td>Emil Jannings</td>\n",
       "      <td>The Last Command</td>\n",
       "      <td>True</td>\n",
       "    </tr>\n",
       "    <tr>\n",
       "      <th>1927</th>\n",
       "      <td>1928</td>\n",
       "      <td>1</td>\n",
       "      <td>ACTRESS</td>\n",
       "      <td>Louise Dresser</td>\n",
       "      <td>A Ship Comes In</td>\n",
       "      <td>False</td>\n",
       "    </tr>\n",
       "    <tr>\n",
       "      <th>1927</th>\n",
       "      <td>1928</td>\n",
       "      <td>1</td>\n",
       "      <td>ACTRESS</td>\n",
       "      <td>Janet Gaynor</td>\n",
       "      <td>7th Heaven</td>\n",
       "      <td>True</td>\n",
       "    </tr>\n",
       "    <tr>\n",
       "      <th>1927</th>\n",
       "      <td>1928</td>\n",
       "      <td>1</td>\n",
       "      <td>ACTRESS</td>\n",
       "      <td>Gloria Swanson</td>\n",
       "      <td>Sadie Thompson</td>\n",
       "      <td>False</td>\n",
       "    </tr>\n",
       "    <tr>\n",
       "      <th>...</th>\n",
       "      <td>...</td>\n",
       "      <td>...</td>\n",
       "      <td>...</td>\n",
       "      <td>...</td>\n",
       "      <td>...</td>\n",
       "      <td>...</td>\n",
       "    </tr>\n",
       "    <tr>\n",
       "      <th>2022</th>\n",
       "      <td>2023</td>\n",
       "      <td>95</td>\n",
       "      <td>Writing (Original Screenplay)</td>\n",
       "      <td>Written by Martin McDonagh</td>\n",
       "      <td>The Banshees of Inisherin</td>\n",
       "      <td>False</td>\n",
       "    </tr>\n",
       "    <tr>\n",
       "      <th>2022</th>\n",
       "      <td>2023</td>\n",
       "      <td>95</td>\n",
       "      <td>Writing (Original Screenplay)</td>\n",
       "      <td>Written by Daniel Kwan &amp; Daniel Scheinert</td>\n",
       "      <td>Everything Everywhere All at Once</td>\n",
       "      <td>True</td>\n",
       "    </tr>\n",
       "    <tr>\n",
       "      <th>2022</th>\n",
       "      <td>2023</td>\n",
       "      <td>95</td>\n",
       "      <td>Writing (Original Screenplay)</td>\n",
       "      <td>Written by Steven Spielberg &amp; Tony Kushner</td>\n",
       "      <td>The Fabelmans</td>\n",
       "      <td>False</td>\n",
       "    </tr>\n",
       "    <tr>\n",
       "      <th>2022</th>\n",
       "      <td>2023</td>\n",
       "      <td>95</td>\n",
       "      <td>Writing (Original Screenplay)</td>\n",
       "      <td>Written by Todd Field</td>\n",
       "      <td>Tár</td>\n",
       "      <td>False</td>\n",
       "    </tr>\n",
       "    <tr>\n",
       "      <th>2022</th>\n",
       "      <td>2023</td>\n",
       "      <td>95</td>\n",
       "      <td>Writing (Original Screenplay)</td>\n",
       "      <td>Written by Ruben Östlund</td>\n",
       "      <td>Triangle of Sadness</td>\n",
       "      <td>False</td>\n",
       "    </tr>\n",
       "  </tbody>\n",
       "</table>\n",
       "<p>10759 rows × 6 columns</p>\n",
       "</div>"
      ],
      "text/plain": [
       "           year_ceremony  ceremony                       category  \\\n",
       "year_film                                                           \n",
       "1927                1928         1                          ACTOR   \n",
       "1927                1928         1                          ACTOR   \n",
       "1927                1928         1                        ACTRESS   \n",
       "1927                1928         1                        ACTRESS   \n",
       "1927                1928         1                        ACTRESS   \n",
       "...                  ...       ...                            ...   \n",
       "2022                2023        95  Writing (Original Screenplay)   \n",
       "2022                2023        95  Writing (Original Screenplay)   \n",
       "2022                2023        95  Writing (Original Screenplay)   \n",
       "2022                2023        95  Writing (Original Screenplay)   \n",
       "2022                2023        95  Writing (Original Screenplay)   \n",
       "\n",
       "                                                 name  \\\n",
       "year_film                                               \n",
       "1927                              Richard Barthelmess   \n",
       "1927                                    Emil Jannings   \n",
       "1927                                   Louise Dresser   \n",
       "1927                                     Janet Gaynor   \n",
       "1927                                   Gloria Swanson   \n",
       "...                                               ...   \n",
       "2022                       Written by Martin McDonagh   \n",
       "2022        Written by Daniel Kwan & Daniel Scheinert   \n",
       "2022       Written by Steven Spielberg & Tony Kushner   \n",
       "2022                            Written by Todd Field   \n",
       "2022                         Written by Ruben Östlund   \n",
       "\n",
       "                                        film  winner  \n",
       "year_film                                             \n",
       "1927                               The Noose   False  \n",
       "1927                        The Last Command    True  \n",
       "1927                         A Ship Comes In   False  \n",
       "1927                              7th Heaven    True  \n",
       "1927                          Sadie Thompson   False  \n",
       "...                                      ...     ...  \n",
       "2022               The Banshees of Inisherin   False  \n",
       "2022       Everything Everywhere All at Once    True  \n",
       "2022                           The Fabelmans   False  \n",
       "2022                                     Tár   False  \n",
       "2022                     Triangle of Sadness   False  \n",
       "\n",
       "[10759 rows x 6 columns]"
      ]
     },
     "execution_count": 4,
     "metadata": {},
     "output_type": "execute_result"
    }
   ],
   "source": [
    "df = pd.read_csv('oscarAwards.csv', index_col=0)\n",
    "df"
   ]
  },
  {
   "cell_type": "code",
   "execution_count": 16,
   "id": "aa44707d-7730-4604-992a-894eb61ca72c",
   "metadata": {},
   "outputs": [
    {
     "data": {
      "text/html": [
       "<div>\n",
       "<style scoped>\n",
       "    .dataframe tbody tr th:only-of-type {\n",
       "        vertical-align: middle;\n",
       "    }\n",
       "\n",
       "    .dataframe tbody tr th {\n",
       "        vertical-align: top;\n",
       "    }\n",
       "\n",
       "    .dataframe thead th {\n",
       "        text-align: right;\n",
       "    }\n",
       "</style>\n",
       "<table border=\"1\" class=\"dataframe\">\n",
       "  <thead>\n",
       "    <tr style=\"text-align: right;\">\n",
       "      <th></th>\n",
       "      <th>year_ceremony</th>\n",
       "      <th>ceremony</th>\n",
       "      <th>category</th>\n",
       "      <th>name</th>\n",
       "      <th>film</th>\n",
       "      <th>winner</th>\n",
       "    </tr>\n",
       "    <tr>\n",
       "      <th>year_film</th>\n",
       "      <th></th>\n",
       "      <th></th>\n",
       "      <th></th>\n",
       "      <th></th>\n",
       "      <th></th>\n",
       "      <th></th>\n",
       "    </tr>\n",
       "  </thead>\n",
       "  <tbody>\n",
       "    <tr>\n",
       "      <th>1927</th>\n",
       "      <td>1928</td>\n",
       "      <td>1</td>\n",
       "      <td>ACTOR</td>\n",
       "      <td>Richard Barthelmess</td>\n",
       "      <td>The Noose</td>\n",
       "      <td>False</td>\n",
       "    </tr>\n",
       "    <tr>\n",
       "      <th>1927</th>\n",
       "      <td>1928</td>\n",
       "      <td>1</td>\n",
       "      <td>ACTOR</td>\n",
       "      <td>Emil Jannings</td>\n",
       "      <td>The Last Command</td>\n",
       "      <td>True</td>\n",
       "    </tr>\n",
       "    <tr>\n",
       "      <th>1927</th>\n",
       "      <td>1928</td>\n",
       "      <td>1</td>\n",
       "      <td>ACTRESS</td>\n",
       "      <td>Louise Dresser</td>\n",
       "      <td>A Ship Comes In</td>\n",
       "      <td>False</td>\n",
       "    </tr>\n",
       "    <tr>\n",
       "      <th>1927</th>\n",
       "      <td>1928</td>\n",
       "      <td>1</td>\n",
       "      <td>ACTRESS</td>\n",
       "      <td>Janet Gaynor</td>\n",
       "      <td>7th Heaven</td>\n",
       "      <td>True</td>\n",
       "    </tr>\n",
       "    <tr>\n",
       "      <th>1927</th>\n",
       "      <td>1928</td>\n",
       "      <td>1</td>\n",
       "      <td>ACTRESS</td>\n",
       "      <td>Gloria Swanson</td>\n",
       "      <td>Sadie Thompson</td>\n",
       "      <td>False</td>\n",
       "    </tr>\n",
       "  </tbody>\n",
       "</table>\n",
       "</div>"
      ],
      "text/plain": [
       "           year_ceremony  ceremony category                 name  \\\n",
       "year_film                                                          \n",
       "1927                1928         1    ACTOR  Richard Barthelmess   \n",
       "1927                1928         1    ACTOR        Emil Jannings   \n",
       "1927                1928         1  ACTRESS       Louise Dresser   \n",
       "1927                1928         1  ACTRESS         Janet Gaynor   \n",
       "1927                1928         1  ACTRESS       Gloria Swanson   \n",
       "\n",
       "                       film  winner  \n",
       "year_film                            \n",
       "1927              The Noose   False  \n",
       "1927       The Last Command    True  \n",
       "1927        A Ship Comes In   False  \n",
       "1927             7th Heaven    True  \n",
       "1927         Sadie Thompson   False  "
      ]
     },
     "execution_count": 16,
     "metadata": {},
     "output_type": "execute_result"
    }
   ],
   "source": [
    "df.head()"
   ]
  },
  {
   "cell_type": "code",
   "execution_count": 9,
   "id": "d4062116-e55a-495a-b4b4-0698462ae82d",
   "metadata": {},
   "outputs": [
    {
     "data": {
      "text/html": [
       "<div>\n",
       "<style scoped>\n",
       "    .dataframe tbody tr th:only-of-type {\n",
       "        vertical-align: middle;\n",
       "    }\n",
       "\n",
       "    .dataframe tbody tr th {\n",
       "        vertical-align: top;\n",
       "    }\n",
       "\n",
       "    .dataframe thead th {\n",
       "        text-align: right;\n",
       "    }\n",
       "</style>\n",
       "<table border=\"1\" class=\"dataframe\">\n",
       "  <thead>\n",
       "    <tr style=\"text-align: right;\">\n",
       "      <th></th>\n",
       "      <th>year_ceremony</th>\n",
       "      <th>ceremony</th>\n",
       "      <th>category</th>\n",
       "      <th>name</th>\n",
       "      <th>film</th>\n",
       "      <th>winner</th>\n",
       "    </tr>\n",
       "    <tr>\n",
       "      <th>year_film</th>\n",
       "      <th></th>\n",
       "      <th></th>\n",
       "      <th></th>\n",
       "      <th></th>\n",
       "      <th></th>\n",
       "      <th></th>\n",
       "    </tr>\n",
       "  </thead>\n",
       "  <tbody>\n",
       "    <tr>\n",
       "      <th>2022</th>\n",
       "      <td>2023</td>\n",
       "      <td>95</td>\n",
       "      <td>Writing (Original Screenplay)</td>\n",
       "      <td>Written by Todd Field</td>\n",
       "      <td>Tár</td>\n",
       "      <td>False</td>\n",
       "    </tr>\n",
       "    <tr>\n",
       "      <th>2022</th>\n",
       "      <td>2023</td>\n",
       "      <td>95</td>\n",
       "      <td>Writing (Original Screenplay)</td>\n",
       "      <td>Written by Ruben Östlund</td>\n",
       "      <td>Triangle of Sadness</td>\n",
       "      <td>False</td>\n",
       "    </tr>\n",
       "  </tbody>\n",
       "</table>\n",
       "</div>"
      ],
      "text/plain": [
       "           year_ceremony  ceremony                       category  \\\n",
       "year_film                                                           \n",
       "2022                2023        95  Writing (Original Screenplay)   \n",
       "2022                2023        95  Writing (Original Screenplay)   \n",
       "\n",
       "                               name                 film  winner  \n",
       "year_film                                                         \n",
       "2022          Written by Todd Field                  Tár   False  \n",
       "2022       Written by Ruben Östlund  Triangle of Sadness   False  "
      ]
     },
     "execution_count": 9,
     "metadata": {},
     "output_type": "execute_result"
    }
   ],
   "source": [
    "df.tail(2)"
   ]
  },
  {
   "cell_type": "code",
   "execution_count": 10,
   "id": "adbff86c-b6fc-4ef5-a2ae-bbeeac5f72bf",
   "metadata": {},
   "outputs": [
    {
     "name": "stdout",
     "output_type": "stream",
     "text": [
      "<class 'pandas.core.frame.DataFrame'>\n",
      "Index: 10759 entries, 1927 to 2022\n",
      "Data columns (total 6 columns):\n",
      " #   Column         Non-Null Count  Dtype \n",
      "---  ------         --------------  ----- \n",
      " 0   year_ceremony  10759 non-null  int64 \n",
      " 1   ceremony       10759 non-null  int64 \n",
      " 2   category       10759 non-null  object\n",
      " 3   name           10756 non-null  object\n",
      " 4   film           10449 non-null  object\n",
      " 5   winner         10759 non-null  bool  \n",
      "dtypes: bool(1), int64(2), object(3)\n",
      "memory usage: 514.8+ KB\n"
     ]
    }
   ],
   "source": [
    "df.info()"
   ]
  },
  {
   "cell_type": "code",
   "execution_count": 11,
   "id": "5584084d-d677-4534-993d-1ef899d10773",
   "metadata": {},
   "outputs": [
    {
     "data": {
      "text/plain": [
       "(10759, 6)"
      ]
     },
     "execution_count": 11,
     "metadata": {},
     "output_type": "execute_result"
    }
   ],
   "source": [
    "df.shape"
   ]
  },
  {
   "cell_type": "code",
   "execution_count": 17,
   "id": "fdc8c296-9927-4896-b646-c4c01a29d2a4",
   "metadata": {},
   "outputs": [],
   "source": [
    "#Manejo de duplicados\n",
    "df = df.drop_duplicates()"
   ]
  },
  {
   "cell_type": "code",
   "execution_count": 18,
   "id": "44c39b15-38ee-4282-866d-fc4fa2b9cc75",
   "metadata": {},
   "outputs": [
    {
     "data": {
      "text/plain": [
       "(10752, 6)"
      ]
     },
     "execution_count": 18,
     "metadata": {},
     "output_type": "execute_result"
    }
   ],
   "source": [
    "df.shape"
   ]
  },
  {
   "cell_type": "code",
   "execution_count": 19,
   "id": "e02de89a-e381-49e5-85a9-892cc6a23247",
   "metadata": {},
   "outputs": [
    {
     "data": {
      "text/html": [
       "<div>\n",
       "<style scoped>\n",
       "    .dataframe tbody tr th:only-of-type {\n",
       "        vertical-align: middle;\n",
       "    }\n",
       "\n",
       "    .dataframe tbody tr th {\n",
       "        vertical-align: top;\n",
       "    }\n",
       "\n",
       "    .dataframe thead th {\n",
       "        text-align: right;\n",
       "    }\n",
       "</style>\n",
       "<table border=\"1\" class=\"dataframe\">\n",
       "  <thead>\n",
       "    <tr style=\"text-align: right;\">\n",
       "      <th></th>\n",
       "      <th>year_ceremony</th>\n",
       "      <th>ceremony</th>\n",
       "      <th>category</th>\n",
       "      <th>name</th>\n",
       "      <th>film</th>\n",
       "      <th>winner</th>\n",
       "    </tr>\n",
       "    <tr>\n",
       "      <th>year_film</th>\n",
       "      <th></th>\n",
       "      <th></th>\n",
       "      <th></th>\n",
       "      <th></th>\n",
       "      <th></th>\n",
       "      <th></th>\n",
       "    </tr>\n",
       "  </thead>\n",
       "  <tbody>\n",
       "    <tr>\n",
       "      <th>1927</th>\n",
       "      <td>False</td>\n",
       "      <td>False</td>\n",
       "      <td>False</td>\n",
       "      <td>False</td>\n",
       "      <td>False</td>\n",
       "      <td>False</td>\n",
       "    </tr>\n",
       "    <tr>\n",
       "      <th>1927</th>\n",
       "      <td>False</td>\n",
       "      <td>False</td>\n",
       "      <td>False</td>\n",
       "      <td>False</td>\n",
       "      <td>False</td>\n",
       "      <td>False</td>\n",
       "    </tr>\n",
       "    <tr>\n",
       "      <th>1927</th>\n",
       "      <td>False</td>\n",
       "      <td>False</td>\n",
       "      <td>False</td>\n",
       "      <td>False</td>\n",
       "      <td>False</td>\n",
       "      <td>False</td>\n",
       "    </tr>\n",
       "    <tr>\n",
       "      <th>1927</th>\n",
       "      <td>False</td>\n",
       "      <td>False</td>\n",
       "      <td>False</td>\n",
       "      <td>False</td>\n",
       "      <td>False</td>\n",
       "      <td>False</td>\n",
       "    </tr>\n",
       "    <tr>\n",
       "      <th>1927</th>\n",
       "      <td>False</td>\n",
       "      <td>False</td>\n",
       "      <td>False</td>\n",
       "      <td>False</td>\n",
       "      <td>False</td>\n",
       "      <td>False</td>\n",
       "    </tr>\n",
       "    <tr>\n",
       "      <th>...</th>\n",
       "      <td>...</td>\n",
       "      <td>...</td>\n",
       "      <td>...</td>\n",
       "      <td>...</td>\n",
       "      <td>...</td>\n",
       "      <td>...</td>\n",
       "    </tr>\n",
       "    <tr>\n",
       "      <th>2022</th>\n",
       "      <td>False</td>\n",
       "      <td>False</td>\n",
       "      <td>False</td>\n",
       "      <td>False</td>\n",
       "      <td>False</td>\n",
       "      <td>False</td>\n",
       "    </tr>\n",
       "    <tr>\n",
       "      <th>2022</th>\n",
       "      <td>False</td>\n",
       "      <td>False</td>\n",
       "      <td>False</td>\n",
       "      <td>False</td>\n",
       "      <td>False</td>\n",
       "      <td>False</td>\n",
       "    </tr>\n",
       "    <tr>\n",
       "      <th>2022</th>\n",
       "      <td>False</td>\n",
       "      <td>False</td>\n",
       "      <td>False</td>\n",
       "      <td>False</td>\n",
       "      <td>False</td>\n",
       "      <td>False</td>\n",
       "    </tr>\n",
       "    <tr>\n",
       "      <th>2022</th>\n",
       "      <td>False</td>\n",
       "      <td>False</td>\n",
       "      <td>False</td>\n",
       "      <td>False</td>\n",
       "      <td>False</td>\n",
       "      <td>False</td>\n",
       "    </tr>\n",
       "    <tr>\n",
       "      <th>2022</th>\n",
       "      <td>False</td>\n",
       "      <td>False</td>\n",
       "      <td>False</td>\n",
       "      <td>False</td>\n",
       "      <td>False</td>\n",
       "      <td>False</td>\n",
       "    </tr>\n",
       "  </tbody>\n",
       "</table>\n",
       "<p>10752 rows × 6 columns</p>\n",
       "</div>"
      ],
      "text/plain": [
       "           year_ceremony  ceremony  category   name   film  winner\n",
       "year_film                                                         \n",
       "1927               False     False     False  False  False   False\n",
       "1927               False     False     False  False  False   False\n",
       "1927               False     False     False  False  False   False\n",
       "1927               False     False     False  False  False   False\n",
       "1927               False     False     False  False  False   False\n",
       "...                  ...       ...       ...    ...    ...     ...\n",
       "2022               False     False     False  False  False   False\n",
       "2022               False     False     False  False  False   False\n",
       "2022               False     False     False  False  False   False\n",
       "2022               False     False     False  False  False   False\n",
       "2022               False     False     False  False  False   False\n",
       "\n",
       "[10752 rows x 6 columns]"
      ]
     },
     "execution_count": 19,
     "metadata": {},
     "output_type": "execute_result"
    }
   ],
   "source": [
    "#Manejo de valores vacios\n",
    "df.isnull()"
   ]
  },
  {
   "cell_type": "code",
   "execution_count": 27,
   "id": "b48e49e3-e63d-4efb-ac82-cb4fe33ecaee",
   "metadata": {},
   "outputs": [
    {
     "data": {
      "text/plain": [
       "year_ceremony      0\n",
       "ceremony           0\n",
       "category           0\n",
       "name               2\n",
       "film             309\n",
       "winner             0\n",
       "dtype: int64"
      ]
     },
     "execution_count": 27,
     "metadata": {},
     "output_type": "execute_result"
    }
   ],
   "source": [
    "#Smar los valores vacios en cada registro\n",
    "df.isnull().sum()"
   ]
  },
  {
   "cell_type": "code",
   "execution_count": 28,
   "id": "b8c04464-91a0-4bc4-aef9-e17e7c616b97",
   "metadata": {},
   "outputs": [],
   "source": [
    "df2 = df.dropna()"
   ]
  },
  {
   "cell_type": "code",
   "execution_count": 30,
   "id": "cbeb0887-1aaf-4c1b-be8e-c6db89bee164",
   "metadata": {},
   "outputs": [
    {
     "data": {
      "text/plain": [
       "year_ceremony    0\n",
       "ceremony         0\n",
       "category         0\n",
       "name             0\n",
       "film             0\n",
       "winner           0\n",
       "dtype: int64"
      ]
     },
     "execution_count": 30,
     "metadata": {},
     "output_type": "execute_result"
    }
   ],
   "source": [
    "df2.isnull().sum()"
   ]
  },
  {
   "cell_type": "code",
   "execution_count": 32,
   "id": "f63dea12-4ace-4576-be74-c59741d58a75",
   "metadata": {},
   "outputs": [
    {
     "data": {
      "text/plain": [
       "(10443, 6)"
      ]
     },
     "execution_count": 32,
     "metadata": {},
     "output_type": "execute_result"
    }
   ],
   "source": [
    "df2.shape"
   ]
  },
  {
   "cell_type": "code",
   "execution_count": 33,
   "id": "2ccafa09-5811-4f66-97a3-559112a4ccff",
   "metadata": {},
   "outputs": [],
   "source": [
    "# Guardar el dataframe depurado\n",
    "df2.to_csv('oscarAwards2.csv', index=False)"
   ]
  },
  {
   "cell_type": "code",
   "execution_count": null,
   "id": "016d67a7-14d2-4b9a-b073-a47fa293cbcd",
   "metadata": {},
   "outputs": [],
   "source": [
    "pip install psycopg2\n",
    "pip install sqlalchemy\n"
   ]
  },
  {
   "cell_type": "code",
   "execution_count": 34,
   "id": "65138d63-b8cc-4669-97d4-5e23e5714960",
   "metadata": {},
   "outputs": [
    {
     "name": "stdout",
     "output_type": "stream",
     "text": [
      "Conexión exitosa a PostgreSQL!\n"
     ]
    }
   ],
   "source": [
    "#Conexión con Postgree\n",
    "import psycopg2\n",
    "from psycopg2 import OperationalError\n",
    "\n",
    "def check_postgres_connection():\n",
    "    try:\n",
    "        connection = psycopg2.connect(\n",
    "            user=\"postgres\",\n",
    "            password=\"cris2405\",\n",
    "            host=\"localhost\",\n",
    "            port=\"5432\",\n",
    "            database=\"proyecto\"\n",
    "        )\n",
    "\n",
    "        print(\"Conexión exitosa a PostgreSQL!\")\n",
    "        connection.close()\n",
    "        \n",
    "    except OperationalError as e:\n",
    "        print(f\"No se pudo conectar a PostgreSQL. Error: {e}\")\n",
    "check_postgres_connection()"
   ]
  },
  {
   "cell_type": "code",
   "execution_count": 38,
   "id": "4090b9b3-2e03-4e22-b9d6-03db0ca5f19c",
   "metadata": {},
   "outputs": [],
   "source": [
    "#Envío del data frame limpio a postgree\n",
    "from sqlalchemy import create_engine\n",
    "dbname = 'proyecto'\n",
    "user = 'postgres'\n",
    "password = 'cris2405'\n",
    "host = 'localhost'\n",
    "port = '5432'\n",
    "\n",
    "conn = psycopg2.connect(dbname=dbname, user=user, password=password, host=host, port=port)\n",
    "\n",
    "engine = create_engine(f'postgresql://{user}:{password}@{host}:{port}/{dbname}')\n",
    "\n",
    "table_name = 'oscarawards'\n",
    "\n",
    "df2.to_sql(table_name, engine, if_exists='replace', index=False)\n",
    "\n",
    "conn.close()"
   ]
  },
  {
   "cell_type": "code",
   "execution_count": 39,
   "id": "ebd17aa0-7823-4423-8153-5ebf33f49269",
   "metadata": {},
   "outputs": [
    {
     "name": "stdout",
     "output_type": "stream",
     "text": [
      "       year_ceremony  ceremony                       category  \\\n",
      "0               1928         1                          ACTOR   \n",
      "1               1928         1                          ACTOR   \n",
      "2               1928         1                        ACTRESS   \n",
      "3               1928         1                        ACTRESS   \n",
      "4               1928         1                        ACTRESS   \n",
      "...              ...       ...                            ...   \n",
      "10438           2023        95  Writing (Original Screenplay)   \n",
      "10439           2023        95  Writing (Original Screenplay)   \n",
      "10440           2023        95  Writing (Original Screenplay)   \n",
      "10441           2023        95  Writing (Original Screenplay)   \n",
      "10442           2023        95  Writing (Original Screenplay)   \n",
      "\n",
      "                                             name  \\\n",
      "0                             Richard Barthelmess   \n",
      "1                                   Emil Jannings   \n",
      "2                                  Louise Dresser   \n",
      "3                                    Janet Gaynor   \n",
      "4                                  Gloria Swanson   \n",
      "...                                           ...   \n",
      "10438                  Written by Martin McDonagh   \n",
      "10439   Written by Daniel Kwan & Daniel Scheinert   \n",
      "10440  Written by Steven Spielberg & Tony Kushner   \n",
      "10441                       Written by Todd Field   \n",
      "10442                    Written by Ruben Östlund   \n",
      "\n",
      "                                    film  winner  \n",
      "0                              The Noose   False  \n",
      "1                       The Last Command    True  \n",
      "2                        A Ship Comes In   False  \n",
      "3                             7th Heaven    True  \n",
      "4                         Sadie Thompson   False  \n",
      "...                                  ...     ...  \n",
      "10438          The Banshees of Inisherin   False  \n",
      "10439  Everything Everywhere All at Once    True  \n",
      "10440                      The Fabelmans   False  \n",
      "10441                                Tár   False  \n",
      "10442                Triangle of Sadness   False  \n",
      "\n",
      "[10443 rows x 6 columns]\n"
     ]
    },
    {
     "name": "stderr",
     "output_type": "stream",
     "text": [
      "C:\\Users\\cusin\\AppData\\Local\\Temp\\ipykernel_75412\\3533782554.py:18: UserWarning: pandas only supports SQLAlchemy connectable (engine/connection) or database string URI or sqlite3 DBAPI2 connection. Other DBAPI2 objects are not tested. Please consider using SQLAlchemy.\n",
      "  df = pd.read_sql_query(query, conn)\n"
     ]
    }
   ],
   "source": [
    "# Definir las credenciales de la base de datos\n",
    "dbname = 'proyecto'\n",
    "user = 'postgres'\n",
    "password = 'cris2405'\n",
    "host = 'localhost'\n",
    "port = '5432'\n",
    "\n",
    "# Establecer la conexión a la base de datos\n",
    "conn = psycopg2.connect(dbname=dbname, user=user, password=password, host=host, port=port)\n",
    "\n",
    "# Nombre de la tabla que deseas extraer\n",
    "table_name = 'oscarawards'\n",
    "\n",
    "# Consulta SQL para seleccionar todos los datos de la tabla\n",
    "query = f\"SELECT * FROM {table_name}\"\n",
    "\n",
    "# Ejecutar la consulta y almacenar los resultados en un DataFrame de pandas\n",
    "df = pd.read_sql_query(query, conn)\n",
    "\n",
    "# Cerrar la conexión a la base de datos\n",
    "conn.close()\n",
    "\n",
    "# Mostrar el DataFrame con los datos de la tabla\n",
    "print(df)\n"
   ]
  },
  {
   "cell_type": "code",
   "execution_count": 1,
   "id": "b7e899e3-e60c-4fbf-9a92-c17ff0511bc7",
   "metadata": {},
   "outputs": [
    {
     "name": "stdout",
     "output_type": "stream",
     "text": [
      "Requirement already satisfied: pymongo in c:\\users\\cusin\\appdata\\local\\programs\\python\\python312\\lib\\site-packages (4.6.1)\n",
      "Requirement already satisfied: dnspython in c:\\users\\cusin\\appdata\\local\\programs\\python\\python312\\lib\\site-packages (2.4.2)\n",
      "Note: you may need to restart the kernel to use updated packages.\n"
     ]
    }
   ],
   "source": [
    "pip install pymongo dnspython"
   ]
  }
 ],
 "metadata": {
  "kernelspec": {
   "display_name": "Python 3 (ipykernel)",
   "language": "python",
   "name": "python3"
  },
  "language_info": {
   "codemirror_mode": {
    "name": "ipython",
    "version": 3
   },
   "file_extension": ".py",
   "mimetype": "text/x-python",
   "name": "python",
   "nbconvert_exporter": "python",
   "pygments_lexer": "ipython3",
   "version": "3.12.2"
  }
 },
 "nbformat": 4,
 "nbformat_minor": 5
}
