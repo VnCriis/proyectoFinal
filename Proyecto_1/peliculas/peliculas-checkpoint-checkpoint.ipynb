{
 "cells": [
  {
   "cell_type": "code",
   "execution_count": 4,
   "id": "49f5d087-1ab1-4740-82fa-ff3149a51b2c",
   "metadata": {},
   "outputs": [
    {
     "name": "stdout",
     "output_type": "stream",
     "text": [
      "Se han guardado los datos en peliculas.csv\n"
     ]
    }
   ],
   "source": [
    "import requests\n",
    "from bs4 import BeautifulSoup\n",
    "import csv\n",
    "\n",
    "def extraer_datos_fila(fila):\n",
    "    datos = []\n",
    "    for celda in fila.find_all('td'):\n",
    "        # Encuentro todas las etiquetas <span> dentro de la fila etiqueta td y las elimino\n",
    "        for span in celda.find_all('span'):\n",
    "            span.decompose()\n",
    "        # Extraigo el texto de la etiqueta td después de eliminar las etiquetas <span> y su contenido\n",
    "        texto = celda.get_text(strip=True)\n",
    "        # Remuevo los caracteres no deseados del html\n",
    "        texto = texto.replace('\\xa0', '').replace('\\u2009', '').replace('&','')\n",
    "        datos.append(texto)\n",
    "    return datos\n",
    "\n",
    "listadopeliculas = []\n",
    "\n",
    "try:\n",
    "    #extraigo los datos del url y los almaceno en soup\n",
    "    url = 'https://es.wikipedia.org/wiki/Anexo:Pel%C3%ADculas_con_las_mayores_recaudaciones'\n",
    "    pedido_obtenido = requests.get(url)\n",
    "    html_obtenido = pedido_obtenido.text\n",
    "    soup = BeautifulSoup(html_obtenido, 'html.parser')\n",
    "    \n",
    "    #obtengo los datos exclusivamente de la tabla con el classname wikitable\n",
    "    tabla = soup.find('table', class_='wikitable')\n",
    "    if tabla:\n",
    "        #si encuentro la tabla entra al bucle y acciona la funcion extraer datos fila y manda la fila despues retorna los datos fila y los almacena\n",
    "        for fila in tabla.find_all('tr'):\n",
    "            datos_fila = extraer_datos_fila(fila)\n",
    "            if datos_fila:\n",
    "                listadopeliculas.append(datos_fila)\n",
    "\n",
    "except Exception as e:\n",
    "    print(f'Ocurrió un error: {e}')\n",
    "\n",
    "# Guardar los datos en un archivo CSV\n",
    "nombre_archivo = 'peliculas.csv'\n",
    "encabezados = ['Pelicula', 'Estudio/Distribuidor', 'Recaudación Mundial', 'Año']\n",
    "\n",
    "with open(nombre_archivo, 'w', newline='', encoding='utf-8') as archivo_csv:\n",
    "    escritor_csv = csv.writer(archivo_csv)\n",
    "    escritor_csv.writerow(encabezados)\n",
    "    escritor_csv.writerows(listadopeliculas)\n",
    "\n",
    "print(f'Se han guardado los datos en {nombre_archivo}')\n"
   ]
  }
 ],
 "metadata": {
  "kernelspec": {
   "display_name": "Python 3 (ipykernel)",
   "language": "python",
   "name": "python3"
  },
  "language_info": {
   "codemirror_mode": {
    "name": "ipython",
    "version": 3
   },
   "file_extension": ".py",
   "mimetype": "text/x-python",
   "name": "python",
   "nbconvert_exporter": "python",
   "pygments_lexer": "ipython3",
   "version": "3.12.2"
  }
 },
 "nbformat": 4,
 "nbformat_minor": 5
}
